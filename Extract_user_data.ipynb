{
 "cells": [
  {
   "cell_type": "code",
   "execution_count": 1,
   "metadata": {},
   "outputs": [],
   "source": [
    "import pandas as pd\n",
    "from glob import glob\n",
    "def get_data_from_day(day):\n",
    "    dataframes = []\n",
    "    for f in glob(day+\"/*.json\"):\n",
    "        dataframes.append(pd.read_json(f,lines=True))\n",
    "    dataDay = pd.concat(dataframes)\n",
    "    return(dataDay)\n",
    "def extract_user_data(data):\n",
    "    captured_keys = ['text','description','screen_name','verified','followers_count','name', 'location','created_at']\n",
    "    users = set()\n",
    "    userData = {}\n",
    "    for key in captured_keys:\n",
    "        userData[key] = []\n",
    "    for ind,val in data.iterrows():\n",
    "        if val['user']['name'] not in users:\n",
    "            users.add(val['user']['name'])\n",
    "            for key in captured_keys:\n",
    "                userData[key].append(val['user'][key])\n",
    "    userFrame = pd.DataFrame()\n",
    "    for key in userData.keys():\n",
    "        print(key,len(userData[key]))\n",
    "        userFrame[key] = userData[key]\n",
    "    return userFrame\n",
    "\n",
    "def get_retweet_data(data_1):\n",
    "    user_dict = {}\n",
    "    follower_dict = {}\n",
    "    account_creation_dict = {}\n",
    "    location_dict = {}\n",
    "    hashtag_dict = {}\n",
    "    #if statement, to count of often a user is retweeted in the user_dict\n",
    "    for retweeted in data_1['retweeted_status']:\n",
    "        if retweeted['user']['name'] in user_dict.keys():\n",
    "            user_dict[retweeted['user']['name']] += 1\n",
    "        else:\n",
    "            user_dict[retweeted['user']['name']] = 1 #also get the user's follower_count, created date, location, and used hasgtags\n",
    "            follower_dict[retweeted['user']['name']] = retweeted['user']['followers_count']\n",
    "            account_creation_dict[retweeted['user']['name']] = retweeted['user']['created_at']\n",
    "            location_dict[retweeted['user']['name']] = retweeted['user']['location']\n",
    "            hashtag_dict[retweeted['user']['name']] = retweeted['entities']['hashtags']\n",
    "\n",
    "\n",
    "    retweet_data = pd.DataFrame()\n",
    "    retweet_data['user'] = list(user_dict.keys())\n",
    "    retweet_data['retweeted'] = list(user_dict.values())\n",
    "    retweet_data['followers_count'] = list(follower_dict.values())\n",
    "    retweet_data['created_at'] = list(account_creation_dict.values())\n",
    "    retweet_data['location'] = list(location_dict.values())\n",
    "    retweet_data['hastags'] = list(hashtag_dict.values())\n",
    "    return retweet_data\n",
    "\n",
    "def add_retweet_data(user_data,data_retweet_f):\n",
    "    retweet_data_for_each_user = []\n",
    "    for user in user_data['name']:\n",
    "        if len(data_retweet_f[data_retweet_f['user'] == user]) !=0:\n",
    "            retweet_data_for_each_user.append(data_retweet_f[data_retweet_f['user'] == user]['retweeted'].values[0])\n",
    "        else:\n",
    "            retweet_data_for_each_user.append(0)\n",
    "    return retweet_data_for_each_user\n",
    "\n",
    "def get_and_save_all_data(day):\n",
    "    data = get_data_from_day(day)\n",
    "    print(\"Finished getting Data\")\n",
    "    data_user = extract_user_data(data)\n",
    "    print(\"Finished extracting Users\")\n",
    "    data_retweeted = get_retweet_data(data[pd.notnull(data['retweeted_status'])])\n",
    "    print(\"Finished extracting retweet data\")\n",
    "    data_user['retweeted_count'] = add_retweet_data(data_user,data_retweeted)\n",
    "    print(\"Finished adding retweet data to table\")\n",
    "    data_user.to_csv(day+\"_userdata.csv\")\n",
    "    print(\"Saved File\")"
   ]
  },
  {
   "cell_type": "code",
   "execution_count": null,
   "metadata": {},
   "outputs": [],
   "source": [
    "get_and_save_all_data(\"2016-06-21\")"
   ]
  },
  {
   "cell_type": "code",
   "execution_count": null,
   "metadata": {
    "collapsed": true
   },
   "outputs": [],
   "source": []
  }
 ],
 "metadata": {
  "kernelspec": {
   "display_name": "Python 3",
   "language": "python",
   "name": "python3"
  },
  "language_info": {
   "codemirror_mode": {
    "name": "ipython",
    "version": 3
   },
   "file_extension": ".py",
   "mimetype": "text/x-python",
   "name": "python",
   "nbconvert_exporter": "python",
   "pygments_lexer": "ipython3",
   "version": "3.6.0"
  }
 },
 "nbformat": 4,
 "nbformat_minor": 2
}
